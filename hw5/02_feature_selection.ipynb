{
 "cells": [
  {
   "cell_type": "markdown",
   "id": "dea8d5c0",
   "metadata": {},
   "source": [
    "## alter  the type to 'float'\n",
    "## Feature selection\n",
    "## change Parameters setting\n",
    "## constract accuracy with data being reduced dimension and standardscaled."
   ]
  },
  {
   "cell_type": "code",
   "execution_count": 15,
   "id": "044c95f8",
   "metadata": {},
   "outputs": [
    {
     "data": {
      "text/html": [
       "<div>\n",
       "<style scoped>\n",
       "    .dataframe tbody tr th:only-of-type {\n",
       "        vertical-align: middle;\n",
       "    }\n",
       "\n",
       "    .dataframe tbody tr th {\n",
       "        vertical-align: top;\n",
       "    }\n",
       "\n",
       "    .dataframe thead th {\n",
       "        text-align: right;\n",
       "    }\n",
       "</style>\n",
       "<table border=\"1\" class=\"dataframe\">\n",
       "  <thead>\n",
       "    <tr style=\"text-align: right;\">\n",
       "      <th></th>\n",
       "      <th>RowNumber</th>\n",
       "      <th>CustomerId</th>\n",
       "      <th>Surname</th>\n",
       "      <th>CreditScore</th>\n",
       "      <th>Age</th>\n",
       "      <th>Tenure</th>\n",
       "      <th>Balance</th>\n",
       "      <th>NumOfProducts</th>\n",
       "      <th>HasCrCard</th>\n",
       "      <th>IsActiveMember</th>\n",
       "      <th>EstimatedSalary</th>\n",
       "      <th>Exited</th>\n",
       "      <th>Geography_France</th>\n",
       "      <th>Geography_Germany</th>\n",
       "      <th>Geography_Spain</th>\n",
       "      <th>Gender_Female</th>\n",
       "      <th>Gender_Male</th>\n",
       "    </tr>\n",
       "  </thead>\n",
       "  <tbody>\n",
       "    <tr>\n",
       "      <th>0</th>\n",
       "      <td>551</td>\n",
       "      <td>15806307</td>\n",
       "      <td>Trevisano</td>\n",
       "      <td>0.892508</td>\n",
       "      <td>38.0</td>\n",
       "      <td>5.0</td>\n",
       "      <td>0.409621</td>\n",
       "      <td>2.0</td>\n",
       "      <td>0</td>\n",
       "      <td>1.0</td>\n",
       "      <td>0.589163</td>\n",
       "      <td>0</td>\n",
       "      <td>0.0</td>\n",
       "      <td>0.0</td>\n",
       "      <td>1.0</td>\n",
       "      <td>0.0</td>\n",
       "      <td>1.0</td>\n",
       "    </tr>\n",
       "    <tr>\n",
       "      <th>1</th>\n",
       "      <td>6897</td>\n",
       "      <td>15709621</td>\n",
       "      <td>Martin</td>\n",
       "      <td>0.768730</td>\n",
       "      <td>54.0</td>\n",
       "      <td>4.0</td>\n",
       "      <td>0.000000</td>\n",
       "      <td>1.0</td>\n",
       "      <td>1</td>\n",
       "      <td>0.0</td>\n",
       "      <td>0.654032</td>\n",
       "      <td>1</td>\n",
       "      <td>1.0</td>\n",
       "      <td>0.0</td>\n",
       "      <td>0.0</td>\n",
       "      <td>1.0</td>\n",
       "      <td>0.0</td>\n",
       "    </tr>\n",
       "    <tr>\n",
       "      <th>2</th>\n",
       "      <td>4588</td>\n",
       "      <td>15619340</td>\n",
       "      <td>Palmer</td>\n",
       "      <td>0.736156</td>\n",
       "      <td>31.0</td>\n",
       "      <td>5.0</td>\n",
       "      <td>0.456025</td>\n",
       "      <td>1.0</td>\n",
       "      <td>1</td>\n",
       "      <td>1.0</td>\n",
       "      <td>0.887514</td>\n",
       "      <td>0</td>\n",
       "      <td>1.0</td>\n",
       "      <td>0.0</td>\n",
       "      <td>0.0</td>\n",
       "      <td>1.0</td>\n",
       "      <td>0.0</td>\n",
       "    </tr>\n",
       "    <tr>\n",
       "      <th>3</th>\n",
       "      <td>291</td>\n",
       "      <td>15620746</td>\n",
       "      <td>Napolitani</td>\n",
       "      <td>0.475570</td>\n",
       "      <td>40.0</td>\n",
       "      <td>4.0</td>\n",
       "      <td>0.331954</td>\n",
       "      <td>1.0</td>\n",
       "      <td>1</td>\n",
       "      <td>0.0</td>\n",
       "      <td>0.627770</td>\n",
       "      <td>0</td>\n",
       "      <td>0.0</td>\n",
       "      <td>0.0</td>\n",
       "      <td>1.0</td>\n",
       "      <td>1.0</td>\n",
       "      <td>0.0</td>\n",
       "    </tr>\n",
       "    <tr>\n",
       "      <th>4</th>\n",
       "      <td>1673</td>\n",
       "      <td>15646372</td>\n",
       "      <td>Yao</td>\n",
       "      <td>1.000000</td>\n",
       "      <td>42.0</td>\n",
       "      <td>5.0</td>\n",
       "      <td>0.459864</td>\n",
       "      <td>1.0</td>\n",
       "      <td>0</td>\n",
       "      <td>1.0</td>\n",
       "      <td>0.810459</td>\n",
       "      <td>0</td>\n",
       "      <td>0.0</td>\n",
       "      <td>0.0</td>\n",
       "      <td>1.0</td>\n",
       "      <td>0.0</td>\n",
       "      <td>1.0</td>\n",
       "    </tr>\n",
       "    <tr>\n",
       "      <th>...</th>\n",
       "      <td>...</td>\n",
       "      <td>...</td>\n",
       "      <td>...</td>\n",
       "      <td>...</td>\n",
       "      <td>...</td>\n",
       "      <td>...</td>\n",
       "      <td>...</td>\n",
       "      <td>...</td>\n",
       "      <td>...</td>\n",
       "      <td>...</td>\n",
       "      <td>...</td>\n",
       "      <td>...</td>\n",
       "      <td>...</td>\n",
       "      <td>...</td>\n",
       "      <td>...</td>\n",
       "      <td>...</td>\n",
       "      <td>...</td>\n",
       "    </tr>\n",
       "    <tr>\n",
       "      <th>7995</th>\n",
       "      <td>5345</td>\n",
       "      <td>15584532</td>\n",
       "      <td>Yu</td>\n",
       "      <td>0.397394</td>\n",
       "      <td>35.0</td>\n",
       "      <td>6.0</td>\n",
       "      <td>0.465350</td>\n",
       "      <td>2.0</td>\n",
       "      <td>1</td>\n",
       "      <td>1.0</td>\n",
       "      <td>0.792944</td>\n",
       "      <td>1</td>\n",
       "      <td>1.0</td>\n",
       "      <td>0.0</td>\n",
       "      <td>0.0</td>\n",
       "      <td>1.0</td>\n",
       "      <td>0.0</td>\n",
       "    </tr>\n",
       "    <tr>\n",
       "      <th>7996</th>\n",
       "      <td>5837</td>\n",
       "      <td>15606641</td>\n",
       "      <td>Liao</td>\n",
       "      <td>0.508143</td>\n",
       "      <td>45.0</td>\n",
       "      <td>7.0</td>\n",
       "      <td>0.661749</td>\n",
       "      <td>1.0</td>\n",
       "      <td>1</td>\n",
       "      <td>0.0</td>\n",
       "      <td>0.491455</td>\n",
       "      <td>0</td>\n",
       "      <td>0.0</td>\n",
       "      <td>1.0</td>\n",
       "      <td>0.0</td>\n",
       "      <td>1.0</td>\n",
       "      <td>0.0</td>\n",
       "    </tr>\n",
       "    <tr>\n",
       "      <th>7997</th>\n",
       "      <td>7335</td>\n",
       "      <td>15739692</td>\n",
       "      <td>Ferri</td>\n",
       "      <td>0.758958</td>\n",
       "      <td>43.0</td>\n",
       "      <td>5.0</td>\n",
       "      <td>0.558373</td>\n",
       "      <td>1.0</td>\n",
       "      <td>1</td>\n",
       "      <td>0.0</td>\n",
       "      <td>0.862275</td>\n",
       "      <td>1</td>\n",
       "      <td>0.0</td>\n",
       "      <td>0.0</td>\n",
       "      <td>1.0</td>\n",
       "      <td>1.0</td>\n",
       "      <td>0.0</td>\n",
       "    </tr>\n",
       "    <tr>\n",
       "      <th>7998</th>\n",
       "      <td>9552</td>\n",
       "      <td>15791373</td>\n",
       "      <td>Worsnop</td>\n",
       "      <td>0.876221</td>\n",
       "      <td>38.0</td>\n",
       "      <td>4.0</td>\n",
       "      <td>0.446714</td>\n",
       "      <td>1.0</td>\n",
       "      <td>0</td>\n",
       "      <td>0.0</td>\n",
       "      <td>0.446828</td>\n",
       "      <td>0</td>\n",
       "      <td>1.0</td>\n",
       "      <td>0.0</td>\n",
       "      <td>0.0</td>\n",
       "      <td>0.0</td>\n",
       "      <td>1.0</td>\n",
       "    </tr>\n",
       "    <tr>\n",
       "      <th>7999</th>\n",
       "      <td>178</td>\n",
       "      <td>15739931</td>\n",
       "      <td>Ibekwe</td>\n",
       "      <td>0.501629</td>\n",
       "      <td>42.0</td>\n",
       "      <td>5.0</td>\n",
       "      <td>0.000000</td>\n",
       "      <td>1.0</td>\n",
       "      <td>0</td>\n",
       "      <td>0.0</td>\n",
       "      <td>0.103495</td>\n",
       "      <td>0</td>\n",
       "      <td>1.0</td>\n",
       "      <td>0.0</td>\n",
       "      <td>0.0</td>\n",
       "      <td>1.0</td>\n",
       "      <td>0.0</td>\n",
       "    </tr>\n",
       "  </tbody>\n",
       "</table>\n",
       "<p>8000 rows × 17 columns</p>\n",
       "</div>"
      ],
      "text/plain": [
       "      RowNumber  CustomerId     Surname  CreditScore   Age  Tenure   Balance  \\\n",
       "0           551    15806307   Trevisano     0.892508  38.0     5.0  0.409621   \n",
       "1          6897    15709621      Martin     0.768730  54.0     4.0  0.000000   \n",
       "2          4588    15619340      Palmer     0.736156  31.0     5.0  0.456025   \n",
       "3           291    15620746  Napolitani     0.475570  40.0     4.0  0.331954   \n",
       "4          1673    15646372         Yao     1.000000  42.0     5.0  0.459864   \n",
       "...         ...         ...         ...          ...   ...     ...       ...   \n",
       "7995       5345    15584532          Yu     0.397394  35.0     6.0  0.465350   \n",
       "7996       5837    15606641        Liao     0.508143  45.0     7.0  0.661749   \n",
       "7997       7335    15739692       Ferri     0.758958  43.0     5.0  0.558373   \n",
       "7998       9552    15791373     Worsnop     0.876221  38.0     4.0  0.446714   \n",
       "7999        178    15739931      Ibekwe     0.501629  42.0     5.0  0.000000   \n",
       "\n",
       "      NumOfProducts  HasCrCard  IsActiveMember  EstimatedSalary  Exited  \\\n",
       "0               2.0          0             1.0         0.589163       0   \n",
       "1               1.0          1             0.0         0.654032       1   \n",
       "2               1.0          1             1.0         0.887514       0   \n",
       "3               1.0          1             0.0         0.627770       0   \n",
       "4               1.0          0             1.0         0.810459       0   \n",
       "...             ...        ...             ...              ...     ...   \n",
       "7995            2.0          1             1.0         0.792944       1   \n",
       "7996            1.0          1             0.0         0.491455       0   \n",
       "7997            1.0          1             0.0         0.862275       1   \n",
       "7998            1.0          0             0.0         0.446828       0   \n",
       "7999            1.0          0             0.0         0.103495       0   \n",
       "\n",
       "      Geography_France  Geography_Germany  Geography_Spain  Gender_Female  \\\n",
       "0                  0.0                0.0              1.0            0.0   \n",
       "1                  1.0                0.0              0.0            1.0   \n",
       "2                  1.0                0.0              0.0            1.0   \n",
       "3                  0.0                0.0              1.0            1.0   \n",
       "4                  0.0                0.0              1.0            0.0   \n",
       "...                ...                ...              ...            ...   \n",
       "7995               1.0                0.0              0.0            1.0   \n",
       "7996               0.0                1.0              0.0            1.0   \n",
       "7997               0.0                0.0              1.0            1.0   \n",
       "7998               1.0                0.0              0.0            0.0   \n",
       "7999               1.0                0.0              0.0            1.0   \n",
       "\n",
       "      Gender_Male  \n",
       "0             1.0  \n",
       "1             0.0  \n",
       "2             0.0  \n",
       "3             0.0  \n",
       "4             1.0  \n",
       "...           ...  \n",
       "7995          0.0  \n",
       "7996          0.0  \n",
       "7997          0.0  \n",
       "7998          1.0  \n",
       "7999          0.0  \n",
       "\n",
       "[8000 rows x 17 columns]"
      ]
     },
     "execution_count": 15,
     "metadata": {},
     "output_type": "execute_result"
    }
   ],
   "source": [
    "import pandas as pd\n",
    "df= pd.read_csv('churn_prediction_data/churn_prediction_data/train.csv')\n",
    "\n",
    "##alter the categorial data to numerical type \n",
    "df_dummies = pd.get_dummies(df, columns=['Geography','Gender'], dtype=float)\n",
    "\n",
    "##alter some extreme number by feature scaling\n",
    "minmax_col = ['CreditScore', 'Balance', 'EstimatedSalary']\n",
    "from sklearn.preprocessing import MinMaxScaler\n",
    "scaler = MinMaxScaler()\n",
    "df_dummies[minmax_col] = scaler.fit_transform(df_dummies[minmax_col])\n",
    "\n",
    "df_dummies[\"Age\"]=pd.to_numeric(df_dummies[\"Age\"],downcast=\"float\")\n",
    "df_dummies[\"Tenure\"]=pd.to_numeric(df_dummies[\"Tenure\"],downcast=\"float\")\n",
    "df_dummies[\"NumOfProducts\"]=pd.to_numeric(df_dummies[\"NumOfProducts\"],downcast=\"float\")\n",
    "df_dummies[\"IsActiveMember\"]=pd.to_numeric(df_dummies[\"IsActiveMember\"],downcast=\"float\")\n",
    "\n",
    "df_dummies"
   ]
  },
  {
   "cell_type": "code",
   "execution_count": 16,
   "id": "7738ad70",
   "metadata": {},
   "outputs": [],
   "source": [
    "all_inputs = df_dummies[['CreditScore','Age','Tenure','Balance','NumOfProducts',\n",
    "                 'IsActiveMember','EstimatedSalary','Geography_France','Geography_Germany','Geography_Spain',\n",
    "                 'Gender_Female','Gender_Male']].values\n"
   ]
  },
  {
   "cell_type": "markdown",
   "id": "60c59ca2",
   "metadata": {},
   "source": [
    "## [怎麼做一個好的特徵選擇](https://medium.com/jackys-blog/%E6%80%8E%E9%BA%BC%E5%81%9A%E4%B8%80%E5%80%8B%E5%A5%BD%E7%9A%84%E7%89%B9%E5%BE%B5%E9%81%B8%E6%93%87-%E4%BD%BF%E7%94%A8python-part-1-d698cc15d76e)\n",
    "使用包裝法(Wrapper)中的RFE_Recursive Feature Elimination(遞歸特徵消除)，從12個特徵中選出11較重要的特徵\n",
    "\n",
    "\n",
    "## [機器學習之特徵工程](https://iter01.com/17410.html)\n",
    "仔細地解釋特徵工程\n",
    "\n",
    "\n",
    "## [Feature Selection -- 3. Embedded methods(嵌入法)](https://ithelp.ithome.com.tw/articles/10246876)\n",
    "Tree-base methods\n",
    "Tree-base演算法和模型也提供***特徵重要性***(feature importance)來讓我們做特徵選擇"
   ]
  },
  {
   "cell_type": "code",
   "execution_count": 17,
   "id": "3de9c401",
   "metadata": {},
   "outputs": [],
   "source": [
    "all_classes = df_dummies['Exited'].values\n",
    "\n",
    "#Tree-base methods\n",
    "from sklearn.ensemble import RandomForestRegressor\n",
    "# create the random forest with your hyperparameters.\n",
    "model = RandomForestRegressor(n_estimators=340)\n",
    "# fit the model to start training.\n",
    "model.fit(all_inputs,all_classes)\n",
    "# get the importance of the resulting features.\n",
    "importances = model.feature_importances_\n",
    "# create a data frame for visualization.\n",
    "final_df = pd.DataFrame({\"Importances\":importances})\n",
    "final_df.set_index('Importances')\n",
    "all_inputs=all_inputs * importances\n",
    "\n",
    "\n",
    "#用RFE,返回特徵選擇後的資料\n",
    "from sklearn.feature_selection import RFE\n",
    "from sklearn.linear_model import LogisticRegression\n",
    "#參數estimator裡放機器學習模型\n",
    "#參數n_feature_to_select為要選擇的特徵個數\n",
    "all_inputs=RFE(estimator=LogisticRegression(max_iter=500),n_features_to_select=11).fit_transform(all_inputs,all_classes)\n"
   ]
  },
  {
   "cell_type": "code",
   "execution_count": 18,
   "id": "4080687b",
   "metadata": {},
   "outputs": [],
   "source": [
    "from sklearn.model_selection import train_test_split\n",
    "(x_train,x_test,y_train,y_test) = train_test_split(all_inputs, all_classes, train_size=0.80, random_state=1,stratify=all_classes)\n"
   ]
  },
  {
   "cell_type": "markdown",
   "id": "a2cf298a",
   "metadata": {},
   "source": [
    "# try different machine learning"
   ]
  },
  {
   "cell_type": "code",
   "execution_count": 19,
   "id": "72f37e5c",
   "metadata": {},
   "outputs": [
    {
     "name": "stdout",
     "output_type": "stream",
     "text": [
      "[01:26:53] WARNING: C:/Users/Administrator/workspace/xgboost-win64_release_1.5.1/src/learner.cc:1115: Starting in XGBoost 1.3.0, the default evaluation metric used with the objective 'binary:logistic' was changed from 'error' to 'logloss'. Explicitly set eval_metric if you'd like to restore the old behavior.\n",
      "訓練集:  1.0\n",
      "測試集:  0.84\n"
     ]
    }
   ],
   "source": [
    "from xgboost.sklearn import XGBClassifier\n",
    "# 建立 XGBClassifier 模型\n",
    "xgboostModel = XGBClassifier(n_estimators=1000, learning_rate= 0.5, use_label_encoder=False)\n",
    "# 使用訓練資料訓練模型\n",
    "xgboostModel.fit(x_train,y_train)\n",
    "# 使用訓練資料預測分類\n",
    "predicted = xgboostModel.predict(x_train)\n",
    "\n",
    "# 預測成功的比例\n",
    "print('訓練集: ',xgboostModel.score(x_train,y_train))\n",
    "print('測試集: ',xgboostModel.score(x_test, y_test))"
   ]
  },
  {
   "cell_type": "code",
   "execution_count": 20,
   "id": "9742607a",
   "metadata": {},
   "outputs": [
    {
     "data": {
      "text/plain": [
       "0.28696436252233826"
      ]
     },
     "execution_count": 20,
     "metadata": {},
     "output_type": "execute_result"
    }
   ],
   "source": [
    "import xgboost as xgb\n",
    "\n",
    "# 建立 XGBRegressor 模型\n",
    "xgbrModel=xgb.XGBRegressor()\n",
    "# 使用訓練資料訓練模型\n",
    "xgbrModel.fit(x_train,y_train)\n",
    "# 使用訓練資料預測\n",
    "predicted=xgbrModel.predict(x_test)\n",
    "xgbrModel.score(x_test, y_test)"
   ]
  },
  {
   "cell_type": "markdown",
   "id": "c359fcb8",
   "metadata": {},
   "source": [
    "## change to hidden_layer_sizes=(1152,576,256,128,64,32)"
   ]
  },
  {
   "cell_type": "code",
   "execution_count": 21,
   "id": "1ba2828f",
   "metadata": {},
   "outputs": [
    {
     "data": {
      "text/plain": [
       "0.863125"
      ]
     },
     "execution_count": 21,
     "metadata": {},
     "output_type": "execute_result"
    }
   ],
   "source": [
    "from sklearn.neural_network import MLPClassifier\n",
    "classifier = MLPClassifier(hidden_layer_sizes=(1152,576,256,128,64,32),activation='relu',random_state=1)\n",
    "classifier.fit(x_train,y_train)\n",
    "classifier.score(x_test, y_test)"
   ]
  },
  {
   "cell_type": "markdown",
   "id": "bc4e7320",
   "metadata": {},
   "source": [
    "## change to max_depth=10"
   ]
  },
  {
   "cell_type": "code",
   "execution_count": 22,
   "id": "d88e5711",
   "metadata": {},
   "outputs": [
    {
     "name": "stdout",
     "output_type": "stream",
     "text": [
      "{'n_estimators': 71}\n",
      "{'max_depth': 8}\n",
      "0.85875\n"
     ]
    }
   ],
   "source": [
    "from sklearn.model_selection import GridSearchCV\n",
    "from sklearn.ensemble import RandomForestClassifier\n",
    "from sklearn.ensemble import RandomForestRegressor\n",
    "\n",
    "from sklearn.metrics import accuracy_score\n",
    "#使用網格搜索確定要建立的基學習器個數\n",
    "clf = GridSearchCV(RandomForestClassifier(max_features=\"log2\"),param_grid=({\"n_estimators\":range(1,101,10)}),cv=10)\n",
    "clf.fit(x_train,y_train)\n",
    "print(clf.best_params_)\n",
    "#再使用網格搜索來確定決策樹的參數\n",
    "clf2 = GridSearchCV(RandomForestClassifier(n_estimators=11),param_grid=({\"max_depth\":range(1,10)}))\n",
    "clf2.fit(x_train,y_train)\n",
    "print(clf2.best_params_)\n",
    "#根據最大層數3，最多棵樹11，建立最終的隨機森林來預測\n",
    "rf = RandomForestClassifier(n_estimators=11,max_depth=10,max_features=\"log2\")\n",
    "rf.fit(x_train,y_train)\n",
    "y_hat = rf.predict(x_test)\n",
    "print(accuracy_score(y_hat,y_test))"
   ]
  },
  {
   "cell_type": "markdown",
   "id": "8f45f0f6",
   "metadata": {},
   "source": [
    "## change to (n_jobs=-1,oob_score=True,  random_state=2,max_depth=10)"
   ]
  },
  {
   "cell_type": "code",
   "execution_count": 23,
   "id": "68458f9f",
   "metadata": {},
   "outputs": [
    {
     "data": {
      "text/plain": [
       "0.865"
      ]
     },
     "execution_count": 23,
     "metadata": {},
     "output_type": "execute_result"
    }
   ],
   "source": [
    "\n",
    "from sklearn.ensemble import RandomForestClassifier\n",
    "#after ajusting data, begin to use it in algorithm to predict the result\n",
    "from sklearn.ensemble import RandomForestClassifier\n",
    "classifier = RandomForestClassifier(n_jobs=-1,oob_score=True,  random_state=2,max_depth=10)\n",
    "classifier.fit(x_train,y_train)\n",
    "\n",
    "#adjusting the testing data and then use in algorithm  \n",
    "#test_inputs = pca.transform(test_inputs)\n",
    "y_pred = classifier.predict(x_test) \n",
    "classifier.score(x_test, y_test)"
   ]
  },
  {
   "cell_type": "code",
   "execution_count": 24,
   "id": "a1d22cc5",
   "metadata": {},
   "outputs": [
    {
     "name": "stdout",
     "output_type": "stream",
     "text": [
      "Epoch 1/100\n",
      "200/200 [==============================] - 0s 804us/step - loss: 0.5577 - accuracy: 0.7620\n",
      "Epoch 2/100\n",
      "200/200 [==============================] - 0s 890us/step - loss: 0.5258 - accuracy: 0.7959\n",
      "Epoch 3/100\n",
      "200/200 [==============================] - 0s 874us/step - loss: 0.5163 - accuracy: 0.7959\n",
      "Epoch 4/100\n",
      "200/200 [==============================] - 0s 875us/step - loss: 0.5046 - accuracy: 0.7959\n",
      "Epoch 5/100\n",
      "200/200 [==============================] - 0s 873us/step - loss: 0.4909 - accuracy: 0.7959\n",
      "Epoch 6/100\n",
      "200/200 [==============================] - 0s 1ms/step - loss: 0.4773 - accuracy: 0.7955\n",
      "Epoch 7/100\n",
      "200/200 [==============================] - 0s 1ms/step - loss: 0.4645 - accuracy: 0.7947\n",
      "Epoch 8/100\n",
      "200/200 [==============================] - 0s 765us/step - loss: 0.4589 - accuracy: 0.7944\n",
      "Epoch 9/100\n",
      "200/200 [==============================] - 0s 774us/step - loss: 0.4521 - accuracy: 0.7945\n",
      "Epoch 10/100\n",
      "200/200 [==============================] - 0s 773us/step - loss: 0.4482 - accuracy: 0.7978\n",
      "Epoch 11/100\n",
      "200/200 [==============================] - 0s 722us/step - loss: 0.4465 - accuracy: 0.7950\n",
      "Epoch 12/100\n",
      "200/200 [==============================] - 0s 749us/step - loss: 0.4428 - accuracy: 0.8012\n",
      "Epoch 13/100\n",
      "200/200 [==============================] - 0s 738us/step - loss: 0.4419 - accuracy: 0.8008\n",
      "Epoch 14/100\n",
      "200/200 [==============================] - ETA: 0s - loss: 0.4445 - accuracy: 0.80 - 0s 760us/step - loss: 0.4396 - accuracy: 0.8030\n",
      "Epoch 15/100\n",
      "200/200 [==============================] - 0s 1ms/step - loss: 0.4403 - accuracy: 0.8041\n",
      "Epoch 16/100\n",
      "200/200 [==============================] - 0s 754us/step - loss: 0.4399 - accuracy: 0.8025\n",
      "Epoch 17/100\n",
      "200/200 [==============================] - 0s 726us/step - loss: 0.4384 - accuracy: 0.8056\n",
      "Epoch 18/100\n",
      "200/200 [==============================] - 0s 698us/step - loss: 0.4381 - accuracy: 0.8056\n",
      "Epoch 19/100\n",
      "200/200 [==============================] - 0s 717us/step - loss: 0.4371 - accuracy: 0.8098\n",
      "Epoch 20/100\n",
      "200/200 [==============================] - 0s 729us/step - loss: 0.4368 - accuracy: 0.8061\n",
      "Epoch 21/100\n",
      "200/200 [==============================] - 0s 756us/step - loss: 0.4354 - accuracy: 0.8053\n",
      "Epoch 22/100\n",
      "200/200 [==============================] - 0s 754us/step - loss: 0.4343 - accuracy: 0.8086\n",
      "Epoch 23/100\n",
      "200/200 [==============================] - 0s 770us/step - loss: 0.4340 - accuracy: 0.8103\n",
      "Epoch 24/100\n",
      "200/200 [==============================] - 0s 721us/step - loss: 0.4341 - accuracy: 0.8119\n",
      "Epoch 25/100\n",
      "200/200 [==============================] - 0s 709us/step - loss: 0.4333 - accuracy: 0.8097\n",
      "Epoch 26/100\n",
      "200/200 [==============================] - 0s 737us/step - loss: 0.4366 - accuracy: 0.8078\n",
      "Epoch 27/100\n",
      "200/200 [==============================] - 0s 724us/step - loss: 0.4330 - accuracy: 0.8083\n",
      "Epoch 28/100\n",
      "200/200 [==============================] - 0s 750us/step - loss: 0.4323 - accuracy: 0.8122\n",
      "Epoch 29/100\n",
      "200/200 [==============================] - 0s 683us/step - loss: 0.4335 - accuracy: 0.8106\n",
      "Epoch 30/100\n",
      "200/200 [==============================] - 0s 726us/step - loss: 0.4319 - accuracy: 0.8125\n",
      "Epoch 31/100\n",
      "200/200 [==============================] - 0s 754us/step - loss: 0.4338 - accuracy: 0.8078\n",
      "Epoch 32/100\n",
      "200/200 [==============================] - 0s 740us/step - loss: 0.4323 - accuracy: 0.8125\n",
      "Epoch 33/100\n",
      "200/200 [==============================] - 0s 854us/step - loss: 0.4330 - accuracy: 0.8094\n",
      "Epoch 34/100\n",
      "200/200 [==============================] - ETA: 0s - loss: 0.4336 - accuracy: 0.81 - 0s 892us/step - loss: 0.4314 - accuracy: 0.8133\n",
      "Epoch 35/100\n",
      "200/200 [==============================] - 0s 861us/step - loss: 0.4317 - accuracy: 0.8087\n",
      "Epoch 36/100\n",
      "200/200 [==============================] - 0s 855us/step - loss: 0.4337 - accuracy: 0.8131\n",
      "Epoch 37/100\n",
      "200/200 [==============================] - 0s 861us/step - loss: 0.4322 - accuracy: 0.8119\n",
      "Epoch 38/100\n",
      "200/200 [==============================] - 0s 843us/step - loss: 0.4316 - accuracy: 0.8117\n",
      "Epoch 39/100\n",
      "200/200 [==============================] - 0s 961us/step - loss: 0.4320 - accuracy: 0.8092\n",
      "Epoch 40/100\n",
      "200/200 [==============================] - 0s 983us/step - loss: 0.4320 - accuracy: 0.8120\n",
      "Epoch 41/100\n",
      "200/200 [==============================] - 0s 836us/step - loss: 0.4315 - accuracy: 0.8128\n",
      "Epoch 42/100\n",
      "200/200 [==============================] - 0s 753us/step - loss: 0.4342 - accuracy: 0.8102\n",
      "Epoch 43/100\n",
      "200/200 [==============================] - 0s 728us/step - loss: 0.4313 - accuracy: 0.8105\n",
      "Epoch 44/100\n",
      "200/200 [==============================] - 0s 873us/step - loss: 0.4331 - accuracy: 0.8106\n",
      "Epoch 45/100\n",
      "200/200 [==============================] - 0s 751us/step - loss: 0.4304 - accuracy: 0.8103\n",
      "Epoch 46/100\n",
      "200/200 [==============================] - 0s 842us/step - loss: 0.4312 - accuracy: 0.8109\n",
      "Epoch 47/100\n",
      "200/200 [==============================] - 0s 749us/step - loss: 0.4348 - accuracy: 0.8080\n",
      "Epoch 48/100\n",
      "200/200 [==============================] - 0s 738us/step - loss: 0.4318 - accuracy: 0.8100\n",
      "Epoch 49/100\n",
      "200/200 [==============================] - 0s 781us/step - loss: 0.4320 - accuracy: 0.8102\n",
      "Epoch 50/100\n",
      "200/200 [==============================] - 0s 832us/step - loss: 0.4323 - accuracy: 0.8116\n",
      "Epoch 51/100\n",
      "200/200 [==============================] - 0s 872us/step - loss: 0.4302 - accuracy: 0.8116\n",
      "Epoch 52/100\n",
      "200/200 [==============================] - 0s 987us/step - loss: 0.4341 - accuracy: 0.8078\n",
      "Epoch 53/100\n",
      "200/200 [==============================] - 0s 984us/step - loss: 0.4314 - accuracy: 0.8098\n",
      "Epoch 54/100\n",
      "200/200 [==============================] - 0s 788us/step - loss: 0.4314 - accuracy: 0.8092\n",
      "Epoch 55/100\n",
      "200/200 [==============================] - 0s 1ms/step - loss: 0.4305 - accuracy: 0.8122\n",
      "Epoch 56/100\n",
      "200/200 [==============================] - 0s 1ms/step - loss: 0.4325 - accuracy: 0.8109\n",
      "Epoch 57/100\n",
      "200/200 [==============================] - 0s 1ms/step - loss: 0.4329 - accuracy: 0.8089\n",
      "Epoch 58/100\n",
      "200/200 [==============================] - 0s 1ms/step - loss: 0.4301 - accuracy: 0.8097\n",
      "Epoch 59/100\n",
      "200/200 [==============================] - 0s 1ms/step - loss: 0.4318 - accuracy: 0.8134\n",
      "Epoch 60/100\n",
      "200/200 [==============================] - 0s 915us/step - loss: 0.4342 - accuracy: 0.8081\n",
      "Epoch 61/100\n",
      "200/200 [==============================] - 0s 1ms/step - loss: 0.4311 - accuracy: 0.8114\n",
      "Epoch 62/100\n",
      "200/200 [==============================] - 0s 1ms/step - loss: 0.4315 - accuracy: 0.8092\n",
      "Epoch 63/100\n",
      "200/200 [==============================] - 0s 1ms/step - loss: 0.4325 - accuracy: 0.8069\n",
      "Epoch 64/100\n",
      "200/200 [==============================] - 0s 978us/step - loss: 0.4329 - accuracy: 0.8089\n",
      "Epoch 65/100\n",
      "200/200 [==============================] - 0s 1ms/step - loss: 0.4314 - accuracy: 0.8100\n",
      "Epoch 66/100\n",
      "200/200 [==============================] - 0s 1ms/step - loss: 0.4331 - accuracy: 0.8095\n",
      "Epoch 67/100\n",
      "200/200 [==============================] - 0s 950us/step - loss: 0.4326 - accuracy: 0.8094\n",
      "Epoch 68/100\n",
      "200/200 [==============================] - 0s 1ms/step - loss: 0.4324 - accuracy: 0.8080\n",
      "Epoch 69/100\n",
      "200/200 [==============================] - 0s 924us/step - loss: 0.4304 - accuracy: 0.8078\n",
      "Epoch 70/100\n",
      "200/200 [==============================] - 0s 932us/step - loss: 0.4312 - accuracy: 0.8100\n",
      "Epoch 71/100\n",
      "200/200 [==============================] - 0s 947us/step - loss: 0.4306 - accuracy: 0.8097\n",
      "Epoch 72/100\n",
      "200/200 [==============================] - 0s 950us/step - loss: 0.4320 - accuracy: 0.8102\n",
      "Epoch 73/100\n",
      "200/200 [==============================] - 0s 942us/step - loss: 0.4298 - accuracy: 0.8109\n",
      "Epoch 74/100\n",
      "200/200 [==============================] - 0s 960us/step - loss: 0.4324 - accuracy: 0.8102\n",
      "Epoch 75/100\n",
      "200/200 [==============================] - 0s 882us/step - loss: 0.4320 - accuracy: 0.8103\n",
      "Epoch 76/100\n",
      "200/200 [==============================] - 0s 1ms/step - loss: 0.4307 - accuracy: 0.8105\n",
      "Epoch 77/100\n",
      "200/200 [==============================] - 0s 890us/step - loss: 0.4304 - accuracy: 0.8105\n",
      "Epoch 78/100\n",
      "200/200 [==============================] - 0s 862us/step - loss: 0.4313 - accuracy: 0.8103\n",
      "Epoch 79/100\n"
     ]
    },
    {
     "name": "stdout",
     "output_type": "stream",
     "text": [
      "200/200 [==============================] - 0s 1ms/step - loss: 0.4323 - accuracy: 0.8092\n",
      "Epoch 80/100\n",
      "200/200 [==============================] - 0s 1ms/step - loss: 0.4327 - accuracy: 0.8089\n",
      "Epoch 81/100\n",
      "200/200 [==============================] - 0s 867us/step - loss: 0.4314 - accuracy: 0.8089\n",
      "Epoch 82/100\n",
      "200/200 [==============================] - 0s 915us/step - loss: 0.4300 - accuracy: 0.8084\n",
      "Epoch 83/100\n",
      "200/200 [==============================] - 0s 967us/step - loss: 0.4290 - accuracy: 0.8105\n",
      "Epoch 84/100\n",
      "200/200 [==============================] - 0s 759us/step - loss: 0.4321 - accuracy: 0.8084\n",
      "Epoch 85/100\n",
      "200/200 [==============================] - 0s 876us/step - loss: 0.4313 - accuracy: 0.8105\n",
      "Epoch 86/100\n",
      "200/200 [==============================] - 0s 1ms/step - loss: 0.4292 - accuracy: 0.8077\n",
      "Epoch 87/100\n",
      "200/200 [==============================] - 0s 1ms/step - loss: 0.4308 - accuracy: 0.8102\n",
      "Epoch 88/100\n",
      "200/200 [==============================] - 0s 1ms/step - loss: 0.4313 - accuracy: 0.8108\n",
      "Epoch 89/100\n",
      "200/200 [==============================] - 0s 967us/step - loss: 0.4284 - accuracy: 0.8131\n",
      "Epoch 90/100\n",
      "200/200 [==============================] - 0s 1ms/step - loss: 0.4275 - accuracy: 0.8108\n",
      "Epoch 91/100\n",
      "200/200 [==============================] - 0s 897us/step - loss: 0.4289 - accuracy: 0.8134\n",
      "Epoch 92/100\n",
      "200/200 [==============================] - 0s 869us/step - loss: 0.4285 - accuracy: 0.81190s - loss: 0.4270 - accuracy: 0.81\n",
      "Epoch 93/100\n",
      "200/200 [==============================] - 0s 1ms/step - loss: 0.4251 - accuracy: 0.8161\n",
      "Epoch 94/100\n",
      "200/200 [==============================] - 0s 938us/step - loss: 0.4251 - accuracy: 0.8156\n",
      "Epoch 95/100\n",
      "200/200 [==============================] - 0s 1ms/step - loss: 0.4283 - accuracy: 0.8117\n",
      "Epoch 96/100\n",
      "200/200 [==============================] - 0s 933us/step - loss: 0.4251 - accuracy: 0.8148\n",
      "Epoch 97/100\n",
      "200/200 [==============================] - 0s 805us/step - loss: 0.4234 - accuracy: 0.8155\n",
      "Epoch 98/100\n",
      "200/200 [==============================] - 0s 791us/step - loss: 0.4252 - accuracy: 0.8148\n",
      "Epoch 99/100\n",
      "200/200 [==============================] - 0s 741us/step - loss: 0.4222 - accuracy: 0.8192\n",
      "Epoch 100/100\n",
      "200/200 [==============================] - 0s 764us/step - loss: 0.4214 - accuracy: 0.8177\n"
     ]
    },
    {
     "data": {
      "text/plain": [
       "<keras.callbacks.History at 0x271a5bb7f10>"
      ]
     },
     "execution_count": 24,
     "metadata": {},
     "output_type": "execute_result"
    }
   ],
   "source": [
    "from tensorflow.keras.models import Sequential, load_model\n",
    "from tensorflow.keras.layers import Dense\n",
    "from sklearn.metrics import accuracy_score\n",
    "from tensorflow import keras\n",
    "model = keras.Sequential([\n",
    "    keras.layers.Dense(32, input_shape=(11,), activation='relu'),\n",
    "    keras.layers.Dense(13, activation='relu'),\n",
    "    keras.layers.Dense(1, activation='sigmoid')\n",
    "])\n",
    "\n",
    "# opt = keras.optimizers.Adam(learning_rate=0.01)\n",
    "\n",
    "model.compile(optimizer='adam',\n",
    "              loss='binary_crossentropy',\n",
    "              metrics=['accuracy'])\n",
    "\n",
    "model.fit(x_train,y_train, epochs=100)"
   ]
  },
  {
   "cell_type": "code",
   "execution_count": 25,
   "id": "7bd514c8",
   "metadata": {},
   "outputs": [
    {
     "data": {
      "text/plain": [
       "0.81875"
      ]
     },
     "execution_count": 25,
     "metadata": {},
     "output_type": "execute_result"
    }
   ],
   "source": [
    "y_hat = model.predict(x_test)\n",
    "y_hat = [0 if val<0.5 else 1 for val in y_hat]\n",
    "accuracy_score(y_test,y_hat)"
   ]
  },
  {
   "cell_type": "code",
   "execution_count": 26,
   "id": "25c9efae",
   "metadata": {},
   "outputs": [
    {
     "data": {
      "text/plain": [
       "0.79875"
      ]
     },
     "execution_count": 26,
     "metadata": {},
     "output_type": "execute_result"
    }
   ],
   "source": [
    "from sklearn.linear_model import LogisticRegression\n",
    "classifier = LogisticRegression(max_iter=500)\n",
    "classifier.fit(x_train,y_train)\n",
    "prediction = classifier.predict(x_test)\n",
    "classifier.score(x_test, y_test)"
   ]
  },
  {
   "cell_type": "markdown",
   "id": "166353e4",
   "metadata": {},
   "source": [
    "# use dimension reduce"
   ]
  },
  {
   "cell_type": "code",
   "execution_count": 27,
   "id": "1c6c0747",
   "metadata": {},
   "outputs": [
    {
     "data": {
      "text/plain": [
       "0.861875"
      ]
     },
     "execution_count": 27,
     "metadata": {},
     "output_type": "execute_result"
    }
   ],
   "source": [
    "##use dimension reduce\n",
    "from sklearn.decomposition import PCA\n",
    "pca = PCA()\n",
    "pca.fit(x_train)\n",
    "x_train= pca.transform(x_train)\n",
    "#after ajusting data, begin to use it in algorithm to predict the result\n",
    "from sklearn.ensemble import RandomForestClassifier\n",
    "classifier = RandomForestClassifier( random_state=2,max_depth=10)\n",
    "classifier.fit(x_train,y_train)\n",
    "\n",
    "#adjusting the testing data and then use in algorithm  \n",
    "#test_inputs = pca.transform(test_inputs)\n",
    "x_test = pca.transform(x_test)\n",
    "y_pred = classifier.predict(x_test) \n",
    "classifier.score(x_test, y_test)"
   ]
  },
  {
   "cell_type": "code",
   "execution_count": 28,
   "id": "54bf1555",
   "metadata": {},
   "outputs": [
    {
     "name": "stdout",
     "output_type": "stream",
     "text": [
      "{'n_estimators': 91}\n",
      "{'max_depth': 7}\n",
      "0.85625\n"
     ]
    }
   ],
   "source": [
    "from sklearn.model_selection import GridSearchCV\n",
    "from sklearn.ensemble import RandomForestClassifier\n",
    "from sklearn.ensemble import RandomForestRegressor\n",
    "#使用網格搜索確定要建立的基學習器個數\n",
    "clf = GridSearchCV(RandomForestClassifier(max_features=\"log2\"),param_grid=({\"n_estimators\":range(1,101,10)}),cv=10)\n",
    "clf.fit(x_train,y_train)\n",
    "print(clf.best_params_)\n",
    "#再使用網格搜索來確定決策樹的參數\n",
    "clf2 = GridSearchCV(RandomForestClassifier(n_estimators=11),param_grid=({\"max_depth\":range(1,10)}))\n",
    "clf2.fit(x_train,y_train)\n",
    "print(clf2.best_params_)\n",
    "#根據最大層數3，最多棵樹11，建立最終的隨機森林來預測\n",
    "rf = RandomForestClassifier(n_estimators=11,max_depth=10,max_features=\"log2\")\n",
    "rf.fit(x_train,y_train)\n",
    "y_hat = rf.predict(x_test)\n",
    "print(accuracy_score(y_hat,y_test))"
   ]
  },
  {
   "cell_type": "markdown",
   "id": "315b37b2",
   "metadata": {},
   "source": [
    "# StandardScaler"
   ]
  },
  {
   "cell_type": "code",
   "execution_count": 29,
   "id": "7d1136b3",
   "metadata": {},
   "outputs": [],
   "source": [
    "#alter the number to elevate the predicted accuracy\n",
    "from sklearn.preprocessing import StandardScaler\n",
    "sc = StandardScaler()\n",
    "train_inputs = sc.fit_transform(x_train)\n",
    "test_inputs = sc.fit_transform(x_test)"
   ]
  },
  {
   "cell_type": "code",
   "execution_count": 30,
   "id": "442afab0",
   "metadata": {},
   "outputs": [
    {
     "data": {
      "text/plain": [
       "0.79375"
      ]
     },
     "execution_count": 30,
     "metadata": {},
     "output_type": "execute_result"
    }
   ],
   "source": [
    "from sklearn.ensemble import RandomForestClassifier\n",
    "classifier = RandomForestClassifier( random_state=2,max_depth=10)\n",
    "classifier.fit(x_train,y_train)\n",
    "\n",
    "#adjusting the testing data and then use in algorithm  \n",
    "#test_inputs = pca.transform(test_inputs)\n",
    "x_test = pca.transform(x_test)\n",
    "y_pred = classifier.predict(x_test) \n",
    "classifier.score(x_test, y_test)"
   ]
  },
  {
   "cell_type": "code",
   "execution_count": 31,
   "id": "bdf96201",
   "metadata": {},
   "outputs": [
    {
     "name": "stdout",
     "output_type": "stream",
     "text": [
      "{'n_estimators': 91}\n",
      "{'max_depth': 8}\n",
      "0.526875\n"
     ]
    }
   ],
   "source": [
    "#使用網格搜索確定要建立的基學習器個數\n",
    "clf = GridSearchCV(RandomForestClassifier(max_features=\"log2\"),param_grid=({\"n_estimators\":range(1,101,10)}),cv=10)\n",
    "clf.fit(x_train,y_train)\n",
    "print(clf.best_params_)\n",
    "#再使用網格搜索來確定決策樹的參數\n",
    "clf2 = GridSearchCV(RandomForestClassifier(n_estimators=11),param_grid=({\"max_depth\":range(1,10)}))\n",
    "clf2.fit(x_train,y_train)\n",
    "print(clf2.best_params_)\n",
    "#根據最大層數3，最多棵樹11，建立最終的隨機森林來預測\n",
    "rf = RandomForestClassifier(n_estimators=11,max_depth=10,max_features=\"log2\")\n",
    "rf.fit(x_train,y_train)\n",
    "y_hat = rf.predict(x_test)\n",
    "print(accuracy_score(y_hat,y_test))"
   ]
  },
  {
   "cell_type": "code",
   "execution_count": null,
   "id": "0abd2996",
   "metadata": {},
   "outputs": [],
   "source": []
  },
  {
   "cell_type": "code",
   "execution_count": null,
   "id": "022174ca",
   "metadata": {},
   "outputs": [],
   "source": []
  },
  {
   "cell_type": "code",
   "execution_count": null,
   "id": "ead18b0b",
   "metadata": {},
   "outputs": [],
   "source": []
  },
  {
   "cell_type": "code",
   "execution_count": null,
   "id": "2173a9ac",
   "metadata": {},
   "outputs": [],
   "source": []
  },
  {
   "cell_type": "code",
   "execution_count": null,
   "id": "615fa28e",
   "metadata": {},
   "outputs": [],
   "source": []
  }
 ],
 "metadata": {
  "kernelspec": {
   "display_name": "Python 3",
   "language": "python",
   "name": "python3"
  },
  "language_info": {
   "codemirror_mode": {
    "name": "ipython",
    "version": 3
   },
   "file_extension": ".py",
   "mimetype": "text/x-python",
   "name": "python",
   "nbconvert_exporter": "python",
   "pygments_lexer": "ipython3",
   "version": "3.8.8"
  }
 },
 "nbformat": 4,
 "nbformat_minor": 5
}
