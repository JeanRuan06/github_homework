{
 "cells": [
  {
   "cell_type": "code",
   "execution_count": 2,
   "id": "7e405754",
   "metadata": {},
   "outputs": [],
   "source": [
    "import pandas as pd\n",
    "df = pd.read_csv('IMDB-Movie-Data.csv')\n",
    "df=df.fillna(0)\n",
    "def test(thing):#用來比較大小\n",
    "        return thing[1]"
   ]
  },
  {
   "cell_type": "code",
   "execution_count": 3,
   "id": "8d7c652b",
   "metadata": {
    "scrolled": true
   },
   "outputs": [
    {
     "name": "stdout",
     "output_type": "stream",
     "text": [
      "Top-3 movies with the highest ratings in 2016: \n",
      "  1. Dangal  2. Kimi no na wa  3. Koe no katachi\n"
     ]
    }
   ],
   "source": [
    "dictone={}\n",
    "bo_ve=[]\n",
    "for i in range(len(df)):\n",
    "    if(df.loc[i]['Year']==2016):\n",
    "        bo_ve.append(True)\n",
    "    else:\n",
    "        bo_ve.append(False)\n",
    "for i in range(len(bo_ve)):\n",
    "    if (bo_ve[i]==True):\n",
    "        dictone[df['Title'][i]]=df['Rating'][i]\n",
    "dictone=sorted(dictone.items(),key=test,reverse=True)\n",
    "print('Top-3 movies with the highest ratings in 2016: ')\n",
    "print('  1.',dictone[0][0],' 2.',dictone[1][0],' 3.',dictone[2][0])"
   ]
  },
  {
   "cell_type": "code",
   "execution_count": 4,
   "id": "f6d9d522",
   "metadata": {},
   "outputs": [
    {
     "name": "stdout",
     "output_type": "stream",
     "text": [
      "The actor generating the highest average revenue: Daisy Ridley , John Boyega\n"
     ]
    }
   ],
   "source": [
    "inti = pd.Series(dtype='float64')\n",
    "dicttwo={}\n",
    "for i in range(len(df)):\n",
    "    act=df['Actors'][i].split('|')\n",
    "    for j in act:\n",
    "        j=j.strip()\n",
    "        inti=inti.append(pd.Series(df['Revenue (Millions)'][i],index=[j]))\n",
    "for x,y in zip(inti.index,inti.values):\n",
    "    if (list(dicttwo.keys()).count(x)==0):\n",
    "        dicttwo[x]=[y]\n",
    "    else:\n",
    "        dicttwo[x].append(y)\n",
    "for i in dicttwo.keys():\n",
    "    dicttwo[i]=sum(dicttwo[i])/len(dicttwo[i])\n",
    "dicttwo=sorted(dicttwo.items(),key=test,reverse=True)\n",
    "print('The actor generating the highest average revenue:',dicttwo[0][0],',',dicttwo[1][0])  "
   ]
  },
  {
   "cell_type": "code",
   "execution_count": 5,
   "id": "90cc7ddf",
   "metadata": {},
   "outputs": [
    {
     "name": "stdout",
     "output_type": "stream",
     "text": [
      "The average rating of Emma Watson’s movies: 7.175\n"
     ]
    }
   ],
   "source": [
    "conthree=df['Actors'].str.contains('Emma Watson')\n",
    "usecal=df[conthree]['Rating']\n",
    "print('The average rating of Emma Watson’s movies:',sum(usecal)/len(usecal))"
   ]
  },
  {
   "cell_type": "code",
   "execution_count": 6,
   "id": "cc6b22bf",
   "metadata": {},
   "outputs": [
    {
     "name": "stdout",
     "output_type": "stream",
     "text": [
      "Top-3 directors who collaborate with the most actors: \n",
      "   Ridley Scott --collaborate with 28 actors\n",
      "   M. Night Shyamalan --collaborate with 24 actors\n",
      "   Paul W.S. Anderson --collaborate with 20 actors\n",
      "   Danny Boyle --collaborate with 20 actors\n"
     ]
    }
   ],
   "source": [
    "intial = pd.Series(dtype='object')\n",
    "for i in range(len(df)):\n",
    "    act=df['Actors'][i].split('|')\n",
    "    for j in act:\n",
    "        j=j.strip() \n",
    "        if (list(intial.index).count(df['Director'][i])==0):\n",
    "            intial=intial.append(pd.Series(j,index=[df['Director'][i]]))\n",
    "        else:\n",
    "            if(list(intial[df['Director'][i]]).count(j)==0):\n",
    "                intial=intial.append(pd.Series(j,index=[df['Director'][i]]))\n",
    "            else:\n",
    "                continue \n",
    "#intial['Gabriele Muccino'].shape[0]\n",
    "def testtwo(thing):#用來比較大小\n",
    "        return intial[thing].shape[0]\n",
    "midcal=list(set(intial.index))\n",
    "#print(midcal)\n",
    "midcal=sorted(midcal,key=testtwo,reverse=True)\n",
    "#print(midcal)\n",
    "ranking=set()\n",
    "for i in midcal:\n",
    "    ranking.add(intial[i].shape[0])\n",
    "ranking=list(ranking)\n",
    "ranking.sort(reverse=True)\n",
    "print('Top-3 directors who collaborate with the most actors: ')\n",
    "for i in range(0,3):\n",
    "    for j in midcal:\n",
    "        if (ranking[i]==intial[j].shape[0]):\n",
    "            print('  ',j,'--collaborate with',ranking[i],'actors')\n",
    "        "
   ]
  },
  {
   "cell_type": "code",
   "execution_count": 7,
   "id": "8f768cfe",
   "metadata": {},
   "outputs": [
    {
     "name": "stdout",
     "output_type": "stream",
     "text": [
      "Top-2 actors playing in the most genres of movies: \n",
      "   Brad Pitt --playing 14 genres\n",
      "   Hugh Jackman --playing 13 genres\n",
      "   Scarlett Johansson --playing 13 genres\n",
      "   Amy Adams --playing 13 genres\n",
      "   Chloe Grace Moretz --playing 13 genres\n",
      "   Johnny Depp --playing 13 genres\n"
     ]
    }
   ],
   "source": [
    "dictfive={}\n",
    "dictcal={}\n",
    "initial = pd.Series(dtype='object')\n",
    "for i in range(len(df)):\n",
    "    genres=df['Genre'][i].split('|')\n",
    "    act=df['Actors'][i].split('|')\n",
    "    for j in act:\n",
    "        j=j.strip() \n",
    "        for k in genres:\n",
    "            if (list(initial.index).count(j)==0):\n",
    "                initial=initial.append(pd.Series(k,index=[j]))\n",
    "            else:\n",
    "                if(list(initial[j]).count(k)==0):\n",
    "                    initial=initial.append(pd.Series(k,index=[j]))\n",
    "                else:\n",
    "                    continue\n",
    "for x,y in zip(initial.index,initial.values):\n",
    "    if(list(dictfive.keys()).count(x)==0):\n",
    "        dictfive[x]=[y]\n",
    "    else:\n",
    "        dictfive[x].append(y)\n",
    "\n",
    "ranki=set()\n",
    "for i in dictfive.values():\n",
    "    ranki.add(len(i))\n",
    "ranki=list(ranki)\n",
    "ranki.sort(reverse=True)\n",
    "print('Top-2 actors playing in the most genres of movies: ')\n",
    "for i in range(0,2):\n",
    "    for x,y in dictfive.items():\n",
    "        if (ranki[i]==len(y)):\n",
    "            print('  ',x,'--playing',ranki[i],'genres')"
   ]
  },
  {
   "cell_type": "code",
   "execution_count": 8,
   "id": "b241ddbe",
   "metadata": {},
   "outputs": [
    {
     "name": "stdout",
     "output_type": "stream",
     "text": [
      "Top-3 actors whose movies lead to the largest maximum gap of years:\n",
      "  Christian Bale|  Anne Hathaway|  Hugh Jackman|  Scarlett Johansson|  Matt Damon|  Mark Wahlberg|  Brad Pitt|  Christopher Plummer|  Tom Hanks|  Bryce Dallas Howard|  Chiwetel Ejiofor|  Ben Kingsley|  Gerard Butler|  Eva Green|  Judi Dench|  Will Smith|  Jennifer Connelly|  Tom Cruise|  Emily Blunt|  Kevin Spacey|  Samuel L. Jackson|  Steve Carell|  Edward Norton|  Will Ferrell|  Denzel Washington|  Russell Crowe|  Toni Collette|  Meryl Streep|  Morgan Freeman|  Dominic West|  Owen Wilson|  Michelle Monaghan|  Jessica Biel|  Dustin Hoffman|  Ben Whishaw|  Paula Patton|  Abbie Cornish|  Johnny Depp|  Jack Davenport|  Rachel Weisz|  Ellen Burstyn|  Kang-ho Song|  Jeremy Irons|  Marion Cotillard|  Kirsten Dunst|  Jennifer Aniston|  Justin Theroux|  Maya Rudolph|  Kate Bosworth|  Audrey Tautou|  Luke Wilson|  Sacha Baron Cohen|  Bob Balaban|"
     ]
    }
   ],
   "source": [
    "dictsix={}\n",
    "dictcall={}\n",
    "for i in range(len(df)):\n",
    "    act=df['Actors'][i].split('|')\n",
    "    for j in act:\n",
    "        j=j.strip()\n",
    "        if (list(dictsix.keys()).count(j)==0):\n",
    "            dictsix[j]=[]\n",
    "            dictsix[j].append(int(df['Year'][i]))\n",
    "        else:\n",
    "            dictsix[j].append(int(df['Year'][i]))\n",
    "for x,y in dictsix.items():\n",
    "    y.sort()\n",
    "    minu=len(y)-1\n",
    "    bi=y[minu]\n",
    "    sma=y[0]\n",
    "    ress=bi-sma\n",
    "    dictcall[x]=ress\n",
    "dictcall=sorted(dictcall.items(), key=test,reverse=True)\n",
    "print('Top-3 actors whose movies lead to the largest maximum gap of years:')\n",
    "for i in range(len(dictcall)):\n",
    "    if (dictcall[i][1]==10):\n",
    "        print(' ',dictcall[i][0],end='|')"
   ]
  },
  {
   "cell_type": "code",
   "execution_count": 17,
   "id": "f622650a",
   "metadata": {},
   "outputs": [
    {
     "name": "stdout",
     "output_type": "stream",
     "text": [
      "Find all actors who collaborate with Johnny Depp in direct and indirect ways:\n",
      "  Thomas Jane|  Rupert Grint|  Joey Morgan|  Zachary Gordon|  Bob Balaban|  Armin Mueller-Stahl|  Mateo Arias|  Nat Wolff|  William Fichtner|  Joel Kinnaman|  Theo James|  Nellie|  Jack Nicholson|  Mahershala Ali|  Kit Harington|  Nia Vardalos|  Jack Huston|  Zac Efron|  Shannon Woodward|  Rory J. Saper|  Terry Crews|  Michael Douglas|  Dale Dickey|  Ellar Coltrane|  Charles S. Dutton|  Ashley Benson|  James Gandolfini|  America Ferrera|  Jerry O'Connell|  Michael Pitt|  Rosemarie DeWitt|  Kathy Baker|  Catherine Keener|  Samantha Isler|  Bella Heathcote|  Aaron Taylor-Johnson|  Sullivan Stapleton|  Evangeline Lilly|  Vincent D'Onofrio|  Jamie Bell|  Jamie Chung|  Cary Joji Fukunaga|  Julie Benz|  Lizzy Caplan|  Isabella Rossellini|  David Acord|  Jemima West|  Tilda Swinton|  Charlie Hunnam|  Danny Sapani|  Mariah Carey|  Laura Allen|  Carrie-Anne Moss|  Joey Lauren Adams|  Tommy Lee Jones|  Emma Stone|  Drew Barrymore|  Aurelien Recoing|  Tom Felton|  Taylor Schilling|  Michael B. Jordan|  Greg Kinnear|  Samuel L. Jackson|  Jordan Nagai|  Rachel House|  Charlie Day|  Olga Kurylenko|  Dave Franco|  Rhys Ifans|  Eddie Redmayne|  Antonio Tarver|  Kristen Bell|  Thomas Brodie-Sangster|  Ryan Reynolds|  Robert Capron|  Rachel Wood|  Christopher McDonald|  Paula Prentiss|  Sharlto Copley|  Danielle Nicolet|  Andy Lau|  Miranda Cosgrove|  Karen Allen|  Ty Simpkins|  Jordi Moll?|  Jack Madigan|  Malcolm Sinclair|  Gabriel Bateman|  Josh Duhamel|  Ashton Kutcher|  Adam Rodriguez|  Haley Joel Osment|  Margarita Levieva|  Julian Dennison|  Sebastian Stan|  Jake Gyllenhaal|  Ang Phula Sherpa|  Jon Daly|  Will Arnett|  Lake Bell|  Joe Anderson|  Karin Konoval|  Justin Timberlake|  Daniel Gimenez Cacho|  Linh Dan Pham|  Lily Collins|  Jennifer Saunders|  Matthew Perry|  Erin Moriarty|  Jason Cope|  Shiloh Fernandez|  Nicholas Galitzine|  Kelsey Grammer|  Skyler Gisondo|  David Oyelowo|  James McAvoy|  Daniel Zovatto|  Cary Elwes|  Marie Gruber|  Jessie Ok Gray|  Jason Bateman|  Lena Endre|  Jason Clarke|  Hugh Grant|  Jamal Woolard|  Paul Rudd|  Giovanni Ribisi|  Stephen Dorff|  Francesc Albiol|  Gregg Weiner|  Ian McShane|  Brandon Routh|  Emily Meade|  Michael Sheen|  Sam Claflin|  John Hodgman|  Kevin Spacey|  John Doman|  Paul Anderson|  Will Ferrell|  Travis Tope|  Taissa Farmiga|  Salim Kechiouche|  Richard Armitage|  Hayley McElhinney|  Ella Anderson|  Ed Helms|  Aasif Mandvi|  Jessica Alba|  Dakota Blue Richards|  Keith David|  Kevin Kline|  Zoe Saldana|  Billy Bob Thornton|  Jackson Rathbone|  Camille Cottin|  Denis Leary|  Sean Patrick Thomas|  Jason Statham|  Faith Wladyka|  Tessa Thompson|  Reese Witherspoon|  Steve Lantz|  Rebel Wilson|  Margot Robbie|  Dougie McConnell|  Sam Shepard|  Domhnall Gleeson|  Tian Jing|  Burt Young|  Stephen Rea|  Doona Bae|  Sasha Lane|  Zac Mattoon O'Brien|  Justice Smith|  Annabeth Gish|  Edie Falco|  Martin Henderson|  Kirsten Dunst|  Leehom Wang|  Daniel Bruhl|  Kevin Dillon|  Raffey Cassidy|  Fionn O'Shea|  Marcia Gay Harden|  Ed Oxenbould|  Noah Wiseman|  Laura Dern|  January Jones|  Edward Asner|  Kate McKinnon|  Ben Kingsley|  David Thewlis|  Bryan Greenberg|  Chiwetel Ejiofor|  Hugo Weaving|  Michelle Monaghan|  Steve Zahn|  Lois van Wijk|  Miles Teller|  Anders Danielsen Lie|  Rose Byrne|  Mary-Louise Parker|  Joe Alwyn|  Kathy Bates|  Sam Elliott|  Candice Bergen|  Cole Konis|  Jim Caviezel|  Jonny Weston|  Owen Wilson|  George Lopez|  Britt Robertson|  Stanley Tucci|  Ethan Hawke|  Ray Romano|  Sandra Kinder|  Simon Pegg|  Tangie Ambrose|  Pablo Schreiber|  Bruno Campos|  Mia Goth|  Sylvester Stallone|  Marley Shelton|  Samantha Sloyan|  Maria Bello|  Alexander Ludwig|  David Morse|  James Floyd|  Cara Delevingne|  Ken Watanabe|  Lars Eidinger|  Lisa Kudrow|  Riley Thomas Stewart|  Josh Gad|  Joan Cusack|  Mickey Rourke|  Anthony Mackie|  Paul Newman|  Brian Geraghty|  Andrea Riseborough|  Hae-il Park|  Justin Long|  Pierre Niney|  Oscar Isaac|  Werner Herzog|  Daniel Craig|  Logan Paul|  Lorenza Izzo|  Thandie Newton|  Vin Diesel|  Jane Fonda|  Dane Cook|  Duncan Joiner|  Rip Torn|  Jason Momoa|  Alfre Woodard|  Steven Mackintosh|  Callum Keith Rennie|  Jack Black|  Ezra Miller|  Tim Roth|  Liv Tyler|  Storm Acheche Sahlstrom|  Jonny Brugh|  Alec Baldwin|  Viggo Mortensen|  Ginnifer Goodwin|  Ni Ni|  Mason Lee|  Christopher Fitzgerald|  Michael McElhatton|  Jeffrey Wright|  Tania Raymonde|  Moises Arias|  Jodie Foster|  Karl Glusman|  Andy Powers|  Oona Laurence|  Mary Steenburgen|  Milo Ventimiglia|  Morena Baccarin|  Alexandra Daddario|  Eric Godon|  Megan Fox|  Harley Quinn Smith|  Beverly D'Angelo|  Hermione Corfield|  Gabriel Byrne|  Olivia Colman|  Carice van Houten|  Jenna Elfman|  Morgan Freeman|  Min-sik Choi|  Isaiah Stone|  Aaron Eckhart|  Harvey Keitel|  Chris Pratt|  Daniel Olbrychski|  Paddy Considine|  Jeff Daniels|  Dana Fuchs|  Kevin Bacon|  Katie Holmes|  Teresa Palmer|  Sanjeev Bhaskar|  Philip Seymour Hoffman|  Benedict Wong|  Billy Burke|  Freddie Highmore|  Quvenzhane Wallis|  John C. McGinley|  Jennifer Lopez|  Matt Damon|  Kate Mara|  Kevin James|  Maya Rudolph|  Vanessa Ferlito|  Don Cheadle|  Freida Pinto|  Kristen Wiig|  Shameik Moore|  Eloise Mumford|  Kyle Gallner|  Lorraine Nicholson|  Glenn Close|  Ruben Blades|  Robert Carlyle|  John Gallagher Jr.|  Radha Mitchell|  Liam Hemsworth|  Gal Gadot|  Alan Arkin|  ?lafur Darri ?lafsson|  Ruth Wilson|  Eli Roth|  Daniel Day-Lewis|  Chris Hemsworth|  Benedict Cumberbatch|  George Clooney|  Michael Fassbender|  Jackie Chan|  Adrianne Palicki|  Blake Lively|  Jae Head|  Jorma Taccone|  Mindy Kaling|  Hunter McCracken|  Jeff Kahn|  Rooney Mara|  Amy Schumer|  Lily James|  Brian Marc|  Julie Walters|  Sarah Dumont|  Olivia Luccardi|  Gerard Butler|  Martin McCann|  Adewale Akinnuoye-Agbaje|  Ian McKellen|  Will Yun Lee|  Brenton Thwaites|  Salma Hayek|  Diane Lane|  Diego Klattenhoff|  Eve|  Tom Holland|  Naomi Watts|  Jonah Hill|  Scott Lawrence|  Gina Carano|  Oprah Winfrey|  Morgan Saylor|  Clint Dyer|  Akiva Schaffer|  Kristen Connolly|  Colin Firth|  Winona Ryder|  Rihanna|  Tom Wilkinson|  Dave Bautista|  Mel Gibson|  Jeremy Renner|  Jim Parsons|  Carmen Ejogo|  Til Schweiger|  Annette Bening|  Michael Cera|  Helena Bonham Carter|  Joel Courtney|  Zoe Kravitz|  Annie Rose Buckley|  Jason Flemyng|  James Ransone|  Ewa Froling|  Art Parkinson|  Dong-seok Ma|  Adria Arjona|  Billy Crudup|  Zachary Quinto|  Mark Wahlberg|  Dennis Quaid|  James Frecheville|  Max Greenfield|  Tom Hughes|  Amy Ryan|  Patrick Dempsey|  Alice Englert|  Robin Williams|  Dominic Cooper|  Jason Sudeikis|  Blythe Danner|  Tabu|  Romain Duris|  Jacki Weaver|  Usher Raymond|  Seth MacFarlane|  Larry the Cable Guy|  Kagiso Kuypers|  Ferdia Walsh-Peelo|  Michael Kenneth Williams|  Michael Kelly|  Michael Rooker|  Jack Reynor|  Golshifteh Farahani|  Ashlyn Sanchez|  Danila Kozlovsky|  Janelle Monae|  Tom Hanks|  Jon Favreau|  Joely Richardson|  Cheryl Hines|  Jeremy Irvine|  Tom Cullen|  Gugu Mbatha-Raw|  Rachael Harris|  Leland Orser|  Jean-Claude Van Damme|  Jasper Newell|  Rob Riggle|  Allison Tolman|  Andy Serkis|  Matthew Marsden|  Paula Beer|  Ed Skrein|  Sunny Pawar|  Patrick Stewart|  Ralph Ineson|  Mauricio Lopez|  Brie Larson|  Keira Knightley|  John Hurt|  Jennifer Jason Leigh|  Freddie Crowder|  Colin Hanks|  John Travolta|  Rachel Bilson|  Christina Hendricks|  Edgar Ramirez|  Jennifer Lawrence|  Orlando Bloom|  Johnny Simmons|  Brendan Fraser|  Neel Sethi|  Michael Vartan|  Josh Brolin|  Jason Segel|  Kim Cattrall|  Felicity Jones|  Dakota Goyo|  Javier Bardem|  Hailee Steinfeld|  Scarlett Johansson|  Kelly Adams|  Thomas Haden Church|  Sarah Snook|  Byung-hun Lee|  James Hamrick|  Karen Moskow|  Phylicia Rashad|  Andreas Wisniewski|  Odeya Rush|  Joan Allen|  Mary Elizabeth Winstead|  Karen Disher|  Abbie Cornish|  Isla Fisher|  Blake Jenner|  Devon Bostick|  Harry Connick Jr.|  Riz Ahmed|  Jane Lynch|  Orto Ignatiussen|  Emile Hirsch|  Luke Bracey|  Cobie Smulders|  Arnold Schwarzenegger|  Jennifer Garner|  Israel Broussard|  Essie Davis|  Kristin Chenoweth|  Ryoko Seta|  Daniel Eric Gold|  Sarah Silverman|  Dolph Lundgren|  Tyne Daly|  Brit Marling|  Tracy Letts|  Aaron Yoo|  Jeremy Davies|  Kate Upton|  Brandon T. Jackson|  Danny Glover|  Derek Jacobi|  Aidan Quinn|  Jamie Dornan|  Kerry Washington|  Tadanobu Asano|  Analeigh Tipton|  Andy Garcia|  Duncan Duff|  Simon Helberg|  John Krasinski|  James Franco|  Morgan Lily|  Rachel McAdams|  Christian Stolte|  Michael Pena|  Hayden Panettiere|  Ben Stiller|  Tony Revolori|  Christian Cooke|  Juno Temple|  Lainie Kazan|  Matt Lanter|  Robert Downey Jr.|  Denzel Washington|  Karel Hermanek Jr.|  Michael Chiklis|  Jack Davenport|  Moe Dunford|  Ray Winstone|  Josh Brener|  Scott Eastwood|  Kevin Hart|  Danny McBride|  Noah Ringer|  Irrfan Khan|  Adrien Brody|  Tim Allen|  Michael Gambon|  Alison Brie|  Deanna Dunagan|  Sigourney Weaver|  Malin Akerman|  Mackenzie Foy|  Tony Shalhoub|  Tao Okamoto|  Cate Blanchett|  Leonard Nimoy|  Evan Rachel Wood|  Amber Tamblyn|  Nicholas Hoult|  Shariff Earp|  Jacob Tremblay|  De'Shawn Washington|  Kurt Russell|  John Cullum|  Hugh Jackman|  Derek Jeter|  Christina Applegate|  Taraji P. Henson|  Billy Connolly|  Hayden Christensen|  Will Dalton|  Chris Isaak|  Astrid Berges-Frisbey|  Maggie Q|  Cedric the Entertainer|  Trey Songz|  Temuera Morrison|  Stephen Lang|  Nick Nolte|  Alfred Molina|  Ted Levine|  Aidan Turner|  Hayley Atwell|  Peter McRobbie|  Ron Perlman|  Brittany Snow|  Rob Corddry|  Jeremy Irons|  Will Smith|  Colton Haynes|  Angelo Josue Lozano Corzo|  Rinko Kikuchi|  Kati Outinen|  Anthony Hopkins|  Iris Apatow|  Dustin Hoffman|  Jessica Lange|  Mel Raido|  Seth Rogen|  Oona Chaplin|  Amanda Peet|  Dominic West|  Sacha Baron Cohen|  Connie Nielsen|  Vinnie Jones|  Christian Bale|  Edward Norton|  Nathan Fillion|  Rachel Blanchard|  Helen Mirren|  Nazanin Boniadi|  Anders Holm|  Lambert Wilson|  Samantha Morton|  John Goodman|  Craig Van Hook|  Addison Timlin|  Thomas Lennon|  Alain Moussi|  Eddie Izzard|  Ryan Gosling|  Max Minghella|  Barry Ward|  Tyler James Williams|  Christian Distefano|  Nick Krause|  Octavia Spencer|  Famke Janssen|  Steve Coogan|  Joaquin Phoenix|  Anna Hutchison|  Lewis Black|  Charlie Cox|  Lynsey Taylor Mackay|  Paul Reiser|  Josef Altin|  Scott Speedman|  Robin Wright|  Donnie Yen|  Kyra Sedgwick|  Renee Zellweger|  Sarah Clarke|  Gaby Hoffmann|  Russell Crowe|  Ned Beatty|  Rufus Sewell|  Robert Sheehan|  Zachery Ty Bryan|  Graham McTavish|  Isabelle Fuhrman|  Michael Ealy|  Ray Stevenson|  Harrison Ford|  Marlon Wayans|  Louis C.K.|  Karen Gillan|  Nadine Velazquez|  Matthew Zuk|  Ethan Suplee|  Dominique McElligott|  Bryan Cranston|  Moon Bloodgood|  Jared Gilman|  Bridgette Barrett|  Harold Perrineau|  Gerry Bednob|  Billy Crystal|  Gemma Ward|  Jeff Bridges|  Dan Fogler|  Greta Gerwig|  Eric Winter|  Taron Egerton|  Laurence Fishburne|  Richard Madden|  Bill Paxton|  Anthony Anderson|  Andre Braugher|  Dan Stevens|  William Hurt|  Vincent Cassel|  Katee Sackhoff|  Zach Galifianakis|  Russell Brand|  Liev Schreiber|  Olivia Munn|  Don Thompson|  Kate Winslet|  Mia Stallard|  Jennifer Aniston|  Elizabeth Berrington|  Hans Matheson|  Nikki Blonsky|  Nathalie Baye|  Antje Traue|  Michael Dickson|  Martin Stringer|  Lucy Fry|  Jackie Earle Haley|  Martin Kabanza|  Ving Rhames|  Dylan O'Brien|  Tyler Perry|  Chris Evans|  Judah Lewis|  Carmen Electra|  Elizabeth Reaser|  Geoffrey Arend|  Lynn Collins|  Cary-Hiroyuki Tagawa|  Alicia Vikander|  Will Poulter|  Jared Leto|  Elle Fanning|  Amara Miller|  Yoo Gong|  Ben Whishaw|  Christopher Walken|  Frank Madigan|  Julian Richings|  Brian Dennehy|  Tony Danza|  Lesley Manville|  Sarita Choudhury|  Rabah Nait Oufella|  Chris Messina|  Saoirse Ronan|  Victoria Justice|  Kevin Costner|  Matthew Goode|  Adam Sandler|  Randall Park|  Amber Heard|  Damaine Radcliff|  Wendy Crewson|  Ed O'Neill|  Michael Caine|  T.R. Knight|  Mark Ruffalo|  Brad Pitt|  Zooey Deschanel|  Annabelle Wallis|  Liana Liberato|  Alan Alda|  Stacy Martin|  Angela Bassett|  Jake Abel|  Freddy Rodriguez|  Teyonah Parris|  Katy Barker|  Ike Barinholtz|  Adele Exarchopoulos|  Oliver Cooper|  Kelly Macdonald|  Billie Piper|  Lydia Wilson|  Jordana Brewster|  Florence Kastriner|  Annabelle Attanasio|  Kat Dennings|  Riley Keough|  Cynthia Nixon|  Johnny Depp|  Kara Hayward|  Dianna Agron|  Taylor Kitsch|  Corey Stoll|  Imogen Poots|  Calum Worthy|  Vincent Kartheiser|  Cori Gonzalez-Macuer|  Anna Faris|  Dominique Swain|  Olivia Wilde|  Kaitlin Olson|  Kate Bosworth|  Rosario Dawson|  Meryl Streep|  Demian Bichir|  Ken Stott|  Audrey Tautou|  Kristin Davis|  Brittany Murphy|  Amanda Bynes|  Jessica Chastain|  Zach Grenier|  Matt Long|  Chris Cooper|  Rebecca Ferguson|  Pierce Brosnan|  Alex Fisher|  Richard Dreyfuss|  Toby Jones|  Brendan Gleeson|  Anthony Edwards|  Common|  Ron Livingston|  Steven Yeun|  Karl Urban|  Olivia Williams|  Sean Bean|  Ellie Kemper|  Ali Larter|  Bill Murray|  Ben Walker|  Bill Engvall|  Robert Pattinson|  Soo-an Kim|  Shia LaBeouf|  Bailey Anne Borders|  Ronnie Gene Blevins|  Nicole Beharie|  Colm Feore|  Sarah Polley|  Emma Watson|  Jorge Garcia|  Brighton Sharbino|  Carly Rae Jepsen|  Laura Ramsey|  Ralph Fiennes|  Tye Sheridan|  Jeremy McWilliams|  Lior Ashkenazi|  Doug Jones|  George MacKay|  Sienna Miller|  Angelina Jolie|  Sally Phillips|  Emilia Clarke|  Nicolas Cage|  Charlotte Gainsbourg|  Woody Harrelson|  Toni Collette|  David Spade|  Dane DeHaan|  Alexis Clagett|  Peter Riegert|  Stellan Skarsgard|  Tyler Hoechlin|  Noomi Rapace|  Ben Foster|  Adam Pally|  Andy Samberg|  Alison Sudol|  Peter Sarsgaard|  Kristin Scott Thomas|  Janet McTeer|  Max von Sydow|  Olivia Thirlby|  Quinton Aaron|  Genesis Rodriguez|  T.J. Miller|  Jason Barry|  Ward Horton|  Mae Whitman|  Diego Luna|  Tyrese Gibson|  Joel McHale|  Michael Stuhlbarg|  Clifton Collins Jr.|  James DuMont|  Elizabeth Olsen|  Lin Shaye|  Emma Fitzpatrick|  Michiel Huisman|  Emmanuelle Chriqui|  Danny Huston|  Benicio Del Toro|  Queen Latifah|  Vanessa Hudgens|  Steve Carell|  Aaron Paul|  Alison Pill|  Ciaran Hinds|  Channing Tatum|  Sean Bott|  Maggie Grace|  Oliver Platt|  Ruby Barnhill|  Jenna Dewan Tatum|  John Malkovich|  Sofia Black-D'Elia|  Pierre Coffin|  Isabelle Nelisse|  Karolina Gruszka|  Kiersey Clemons|  Mira Sorvino|  Callan McAuliffe|  Robert Duvall|  Caitlyn Rund|  Alice Eve|  Mila Kunis|  Ben Affleck|  Maria Dizzia|  Rhona Mitra|  Jason O'Mara|  Eric Stonestreet|  Lisa Thoreson|  Logan Marshall-Green|  Michael Mantell|  Iain Glen|  Leslie Bibb|  Jay Baruchel|  Demi Moore|  Emma Greenwell|  Rachel Weisz|  Henry Cavill|  Ellen DeGeneres|  Jessica Biel|  Paul Birchard|  Antonio Banderas|  Anil Kapoor|  Daisy Ridley|  Arnaud Viard|  Matt Bomer|  Jalil Lespert|  Guillaume Baillargeon|  Sophie Nelisse|  John Corbett|  James Badge Dale|  Tom Mison|  50 Cent|  Kate Hudson|  Patricia Arquette|  Jonathan Roumie|  Miyavi|  Kari Matchett|  Zoe Bell|  John Turturro|  Alia Shawkat|  Brian Cox|  David James|  Megan Charpentier|  Douglas M. Griffin|  Ellen Page|  Bill Pullman|  Raghuvir Joshi|  Jessica Lucas|  Woody Allen|  Mark Strong|  Kenneth Branagh|  Taylor Swift|  Robert Patrick|  Anthony LaPaglia|  Bruce Greenwood|  Justin Theroux|  Dakota Fanning|  Colin Quinn|  Cameron Diaz|  Jonathan Rhys Meyers|  Rosamund Pike|  Gabriella Wilde|  Aaron Burns|  Sienna Guillory|  RJ Cyler|  Damon Wayans Jr.|  Eva Mendes|  Amy Poehler|  Patricia Clarkson|  Brenda Blethyn|  Anna Camp|  Michael Constantine|  Katie Crown|  Brooke Shields|  Tony Goldwyn|  Lucy Boynton|  Aidan Gillen|  Patrick Wilson|  Kang-ho Song|  Aomi Muyock|  CCH Pounder|  Jan Cornet|  Anne Hathaway|  Tom Hiddleston|  Charlize Theron|  Andie MacDowell|  Jet Li|  Shailene Woodley|  Dominique Tipper|  Steve Wiebe|  Mohamed Akhzam|  Kyle Chandler|  Guy Pearce|  Jenny Slate|  Dax Flame|  Josh Peck|  Gretchen Mol|  Gael Garcia Bernal|  Jason Schwartzman|  Abigail Breslin|  Lorraine Toussaint|  Michelle Rodriguez|  Rebecca Hall|  Bonnie Hunt|  Natasha Henstridge|  Emily Mortimer|  Jake Johnson|  Sophie Okonedo|  Max Irons|  Charlotte Le Bon|  Albert Brooks|  Dwayne Johnson|  Chris Wedge|  Gabriel Basso|  Adrian Grenier|  Bruce Willis|  Tony Amendola|  Matthew McConaughey|  Randy Couture|  Ari Graynor|  Jessica Barden|  Alex Pettyfer|  Rasmus Hardiker|  Barry Pepper|  Richard Gere|  Sam Riley|  Levi Miller|  Annalise Basso|  Nick Offerman|  Maggie Gyllenhaal|  Florence Clery|  Michael McDonald|  Katherine Waterston|  Frances O'Connor|  Joe Manganiello|  Juliet Rylance|  Jo Hartley|  Tina Fey|  Suraj Sharma|  Lea Seydoux|  Katherine Heigl|  Nicola Peltz|  David Harbour|  Wenwen Han|  Mike Vogel|  Michael Shannon|  Kirby Bliss Blanton|  Carey Mulligan|  Alex Essoe|  Boyd Holbrook|  Emayatzy Corinealdi|  Garret Dillahunt|  Naomie Harris|  Emilie de Ravin|  Adam Brody|  Regina Hall|  Gemma Jones|  Armie Hammer|  Joseph Gordon-Levitt|  Charles Dance|  Jack O'Connell|  Kieran Culkin|  Gwyneth Paltrow|  Tim Blake Nelson|  Jennifer Morrison|  Laurent Lucas|  Topher Grace|  Lucas Hedges|  Tom Sizemore|  Catalina Sandino Moreno|  Giancarlo Esposito|  Danny Trejo|  Lulu Wilson|  Jack McBrayer|  Eva Green|  Forest Whitaker|  Dax Shepard|  Amr Waked|  Ben Winchell|  J.K. Simmons|  Hilary Swank|  Trenton Rogers|  Lia Marie Johnson|  Ewan McGregor|  Benjamin Bratt|  Paul Walker|  Ice Cube|  John Cusack|  Jim Carrey|  Bill Nighy|  Emily Browning|  Anna Friel|  Allison Janney|  Adil Hussain|  Rupert Friend|  Chloe Sevigny|  Scott Glenn|  Christopher Plummer|  Tijuana Ricks|  Gabourey Sidibe|  F. Murray Abraham|  Kiefer Sutherland|  Julia Stiles|  Kimberly Elise|  Clive Owen|  Keir Gilchrist|  Brett Cullen|  Bel Powley|  Wentworth Miller|  Henry Thomas|  Robbie Amell|  Kelly Reilly|  Amanda Seyfried|  Valerie Mahaffey|  Sarah Roemer|  Tom Cruise|  Mandy Gonzalez|  Angourie Rice|  Nicole Kidman|  Julianne Moore|  Mia Wasikowska|  Cam Gigandet|  Judy Greer|  Lucas Till|  Melanie Laurent|  Gabriel Chavarria|  Joe Cobden|  Jordan Carlos|  Maddie Ziegler|  Michelle Pfeiffer|  Lauren Graham|  Vera Farmiga|  Benjamin Walker|  Lena Headey|  Elisabeth Shue|  Travis Fimmel|  Marton Csokas|  Jesse Eisenberg|  Su Elliot|  Adam Driver|  Dakota Johnson|  Andrea Whitburn|  Neil Patrick Harris|  Aryana Engineer|  Steve Buscemi|  Garance Marillier|  Peter Stormare|  Anna Kendrick|  ?scar Jaenada|  Thomas M. Wright|  Damien Marzette|  David Strathairn|  Rosie Shaw|  Sandra Bullock|  Lucy Liu|  Sigrid Bouaziz|  Matthias Schoenaerts|  Haley Bennett|  David Wenham|  Cillian Murphy|  Josh Wiggins|  Ed Harris|  Fred Dalton Thompson|  Jennifer Ehle|  Shea Adams|  Jared Harris|  Susan Sarandon|  Ariel Levy|  Alexander Black|  Ben Barnes|  Luke Kleintank|  Robert De Niro|  Alden Ehrenreich|  Nikolaj Coster-Waldau|  Viola Davis|  Gattlin Griffith|  Kai Ryssdal|  Theo Rossi|  John Alexander|  Halle Berry|  Austin Abrams|  Bradley Cooper|  Sean Faris|  Sarah Gadon|  Donald Sutherland|  Claire Danes|  David Denman|  Lili Sepe|  Lupita Nyong'o|  Willem Dafoe|  Nick Robinson|  Portia Doubleday|  Penn Badgley|  Antonia Ribero|  Garrett Hedlund|  Jim Sturgess|  Marion Cotillard|  Natalie Portman|  Brian Howe|  Crispin Glover|  Rila Fukushima|  Jean Reno|  Elisabeth Moss|  Sylvia Hoeks|  Christian Stevens|  Austin Stowell|  Sam Neill|  John C. Reilly|  Kate Beckinsale|  Zachary Bennett|  Andrew Simpson|  Noah Taylor|  Jaden Smith|  Dermot Mulroney|  Rosie Huntington-Whiteley|  Stephen Moyer|  Jamie Blackley|  Matthew Fox|  Tom Costello|  Nathalie Boltt|  Lara Pulver|  Aubrey Plaza|  Melissa Benoist|  Eddie Marsan|  Sam Trammell|  Paul Dano|  Sue Dahlman|  Katey Sagal|  Eric Bana|  Charlie Heaton|  Leslie Mann|  Ruth Negga|  Daniella Kertesz|  Joseph Mawle|  Ryan Potter|  Peyton List|  Logan Miller|  Dick Van Dyke|  Kurt Fuller|  Yu-mi Jung|  Djimon Hounsou|  Rodrigo Santoro|  Bree Turner|  Alessandro Nivola|  Maika Monroe|  Joel Edgerton|  Peter Facinelli|  Auli'i Cravalho|  Idris Elba|  Jane Levy|  Josh Lucas|  Judy Davis|  Haley Lu Richardson|  Sean Penn|  Stephen Merchant|  Saurabh Shukla|  Rizwan Manji|  Lucy Walters|  Tammy Blanchard|  Michael Nyqvist|  Gil Birmingham|  Momo Dione|  Vince Vaughn|  Lou Taylor Pucci|  Dean Norris|  Charlie Tahan|  Sally Hawkins|  Brian Caspe|  Michael C. Hall|  Sam Worthington|  Kim Coates|  Vicky Krieps|  AnnaSophia Robb|  Juan Saavedra|  Thomas Middleditch|  Kate Dickie|  Michelle Yeoh|  Anika Noni Rose|  Wendi McLendon-Covey|  Megan Park|  Emily Ratajkowski|  Luke Evans|  Alexandra Maria Lara|  Chadwick Boseman|  Julian Barratt|  Michael Parks|  Gabriel Luna|  Kerry Bishe|  Jeff Goldblum|  Salli Richardson-Whitfield|  Cush Jumbo|  Brady Corbet|  Deborah Kara Unger|  Selena Gomez|  Tobias Menzies|  Alan Rickman|  Jim Broadbent|  Colm Meaney|  Colin Farrell|  Xavier Samuel|  Walton Goggins|  Keri Russell|  Craig T. Nelson|  Logan Lerman|  Timothy Spall|  Rory Cochrane|  Steele Stebbins|  Selma Blair|  Nicholas Braun|  Bruce Boxleitner|  Matthew Morrison|  Moises Acevedo|  Barkhad Abdirahman|  Olivia Cooke|  Mary McCormack|  Andrew Scott|  Steve Martin|  Julianna Margulies|  Julia Ormond|  Emilie Leclerc|  Hee-Bong Byun|  Sarah Jessica Parker|  Jena Malone|  Leslie Jones|  John Carroll Lynch|  Jeffrey Dean Morgan|  Allen Leech|  Diane Kruger|  Jennifer Connelly|  Jemaine Clement|  Riccardo Scamarcio|  Adrian Martinez|  Robert Redford|  Gemma Arterton|  Idina Menzel|  Gabriela Lopez|  Emma Roberts|  John Hawkes|  Lukas Hassel|  Mandy Moore|  Julianne Hough|  Jon Voight|  Terrence Howard|  John Ratzenberger|  Noel Fisher|  Christopher Mintz-Plasse|  Sam Rockwell|  Mo'Nique|  Andrew Garfield|  Shawn Roberts|  Jessica Sula|  Mark Chao|  Sally Field|  Donna Murphy|  Terence Stamp|  Gary Oldman|  Dan Byrd|  Toby Kebbell|  Brooklyn Decker|  AJ Michalka|  Daniel Henshall|  Carla Gugino|  Jude Law|  Rachael Blake|  John D'Leo|  Josh Hutcherson|  Peter Dinklage|  Alistair Abell|  Elijah Smith|  Melissa Leo|  Robert Knepper|  Barkhad Abdi|  Lily Rabe|  Michael Yare|  Elena Anaya|  Richenda Carey|  Sonoya Mizuno|  Elijah Wood|  Vincent Ebrahim|  Ji-min Han|  Jerry Ferrara|  Heath Ledger|  Maria Doyle Kennedy|  Ansel Elgort|  Alan Tudyk|  Melissa McCarthy|  Vanessa Lachey|  Ryan Lee|  Elizabeth Debicki|  Martin Freeman|  Adelaide Kane|  Paula Patton|  Arturo Castro|  Max Burkholder|  Lauren Holly|  Dylan Minnette|  McCaul Lombardi|  Justin Bartha|  Lili Taylor|  Kate Siegel|  Eddie Murphy|  Kevin McKidd|  Tim McGraw|  Christopher Evan Welch|  Aiden Longworth|  T.I.|  Thomas Mann|  Aldis Hodge|  Mark Rylance|  Chloe Grace Moretz|  Emma Thompson|  Kathleen Quinlan|  Duan Sanderson|  Rima Te Wiata|  Jerry Stiller|  Steve Tom|  Josh Hartnett|  Imelda Staunton|  Wes Bentley|  Scott Mescudi|  Madison Wolfe|  Joseph Fiennes|  Maude Apatow|  Scott Adsit|  Eddie Baroo|  Diego Boneta|  Sophie Perry|  Rainn Wilson|  Kevin Connolly|  Paul Giamatti|  Derek Luke|  Lucas Black|  Stephen Henderson|  Madina Nalwanga|  Lily Cole|  Logan Huffman|  Madeleine West|  Nicole Parker|  Penelope Wilton|  Joshua Leonard|  Jai Courtney|  Sheila Kelley|  Vernetta Lopez|  Jovan Adepo|  David Lyons|  Alice Braga|  Lily-Rose Depp|  Bokeem Woodbine|  Chris Rock|  Jon Hamm|  Mireille Enos|  Nick Frost|  John Boyega|  Kylie Rogers|  Jessica Barth|  Ellen Burstyn|  Alexis Dziena|  Matthew Macfadyen|  Craig Robinson|  Tom Hardy|  Judi Dench|  Kodi Smit-McPhee|  Natascha McElhone|  Linda Cardellini|  Milla Jovovich|  Tobey Maguire|  Nina Dobrev|  Bella Thorne|  Penelope Cruz|  Marisa Paredes|  Josh Stewart|  Albert Finney|  Leonardo DiCaprio|  Ross Kimball|  Jaime Winstone|  Zoe Kazan|  Isabel Lucas|  Oaklee Pendergast|  Rene Russo|  Kiernan Shipka|  Alfie Allen|  Frank Langella|  Jamie Campbell Bower|  Richard Jenkins|  Adam Devine|  Craig Ferguson|  Olivia DeJonge|  Luke Wilson|  Rose McGowan|  Sean Bridgers|  Julie Andrews|  Laura Linney|  Cara Buono|  Jennifer Koenig|  Ophelia Lovibond|  Linda Gegusch|  Ewen Leslie|  Jonathan Daniel Brown|  Dean Mumford|  Kevin Nealon|  Gary Cole|  Liam Neeson|  Nathan Phillips|  Michael Trucco|  Jon Bernthal|  Jesse Plemons|  Garrett M. Brown|  Daniel Radcliffe|  Bryce Dallas Howard|  John Leguizamo|  Joel David Moore|  Miles Heizer|  Julia Roberts|  Jonathan Groff|  Nancy Kwan|  Emily Blunt|  Ella Rumpf|  Max Martini|  Nicholas Hope|  Oakes Fegley|  Laurie Holden|  Mathieu Amalric|  Taylor Lautner|  Paul Bettany|  Kathryn Hahn|  Jamie Foxx|  Chris Pine|  Lewis MacDougall|  Alexander Skarsgard|  Kristen Stewart|  Anton Yelchin|  India Eisley|  Ernst Stotzner|  Zachary Levi|  C.H. Evans|  J. Todd Smith|  Emory Cohen|  Jason Isaacs|  Sarah Paulson|  Klara Kristin|  Natalie Martinez|  Michael Keaton|  Kaya Scodelario|  Tom Prior|  Ivo Nandi|  Michelle Williams|  Geoffrey Rush|  Danny DeVito|  Dev Patel|  Christopher Lee|  Keanu Reeves|  Rose Leslie|  Ana de Armas|  Elizabeth Banks|  Asa Butterfield|  Zoey Deutch|  Adam Levine|  Shad Moss|  Taika Waititi|  Wei Tang|  Jessica Brown Findlay|  Val Kilmer|  Bill Hader|  Rachel Korine|  Jasmine Trinca|  James Marsden|  Anya Taylor-Joy|  Alex R. Hibbert|  Hugh Laurie|  Ryan Guzman|  Fran Kranz|  Casey Affleck|  Christoph Waltz|  Keith Carradine|  Luing Andrews|  Teri Hatcher|  Amy Adams|  Timothy Olyphant|  Kenny Wormald|  Chatchawai Kamonsakpitak|  Nick Swardson|"
     ]
    }
   ],
   "source": [
    "actor_set=set()\n",
    "dictseven={}\n",
    "for i in range(len(df)):\n",
    "    act=df['Actors'][i].split('|')\n",
    "    for j in act:\n",
    "        j=j.strip()\n",
    "        actor_set.add(j)\n",
    "for i in actor_set:\n",
    "    co_set=set()\n",
    "    for j in range(len(df)):\n",
    "        co=df['Actors'][j].split('|')\n",
    "        for k in range(len(co)):\n",
    "            co[k]=co[k].strip()\n",
    "        if (co.count(i)==1):\n",
    "            for p in co:\n",
    "                co_set.add(p)\n",
    "    co_set.remove(i)\n",
    "    dictseven[i]=co_set\n",
    "    \n",
    "seri=pd.Series(dictseven)\n",
    "one=seri['Johnny Depp']\n",
    "mid_set=set()\n",
    "cal_set=one-mid_set\n",
    "cal=[mid_set,one]\n",
    "nu=1\n",
    "while(len(cal_set)!=0):\n",
    "    nu=nu+1\n",
    "    midi=set()\n",
    "    for i in cal_set:\n",
    "        for j in seri[i]:\n",
    "            midi.add(j)\n",
    "    cal.append(midi | cal[nu-1])\n",
    "    cal_set=cal[nu]-cal[nu-1]\n",
    "print('Find all actors who collaborate with Johnny Depp in direct and indirect ways:' )\n",
    "for i in cal[nu]:\n",
    "    print(' ',i,end='|')\n"
   ]
  }
 ],
 "metadata": {
  "kernelspec": {
   "display_name": "Python 3",
   "language": "python",
   "name": "python3"
  },
  "language_info": {
   "codemirror_mode": {
    "name": "ipython",
    "version": 3
   },
   "file_extension": ".py",
   "mimetype": "text/x-python",
   "name": "python",
   "nbconvert_exporter": "python",
   "pygments_lexer": "ipython3",
   "version": "3.8.8"
  }
 },
 "nbformat": 4,
 "nbformat_minor": 5
}
